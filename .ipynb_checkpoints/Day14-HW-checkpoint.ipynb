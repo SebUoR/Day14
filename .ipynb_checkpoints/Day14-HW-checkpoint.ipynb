{
 "cells": [
  {
   "cell_type": "markdown",
   "id": "6ce44393-3036-4c90-904f-1e85718f57fb",
   "metadata": {},
   "source": [
    "## Introduction to Data Science\n",
    "\n",
    "#### University of Redlands - DATA 101\n",
    "#### Prof: Joanna Bieri [joanna_bieri@redlands.edu](mailto:joanna_bieri@redlands.edu)\n",
    "#### [Class Website: data101.joannabieri.com](https://joannabieri.com/data101.html)\n",
    "\n",
    "---------------------------------------\n",
    "# Homework Day 14\n",
    "---------------------------------------\n",
    "\n",
    "GOALS:\n",
    "\n",
    "1. Reflect on Algorithmic bias\n",
    "2. Consider your role in Data Ethics\n",
    "3. Report on your reading.\n",
    "\n",
    "----------------------------------------------------------\n",
    "\n",
    "This homework has **3 questions** and **1 reading report**"
   ]
  },
  {
   "cell_type": "markdown",
   "id": "d0c422e3-32b1-452f-89a8-2586784d3957",
   "metadata": {},
   "source": [
    "## Important Information\n",
    "\n",
    "- Email: [joanna_bieri@redlands.edu](mailto:joanna_bieri@redlands.edu)\n",
    "- Office Hours: Duke 209 <a href=\"https://joannabieri.com/schedule.html\"> Click Here for Joanna's Schedule</a>\n",
    "\n",
    "## Day 14 Assignment - same drill.\n",
    "\n",
    "1. Make sure you can **Fork** and **Clone** the Day14 repo from [Redlands-DATA101](https://github.com/Redlands-DATA101)\n",
    "2. Open the file Day14-HW.ipynb and start doing the problems.\n",
    "    * You can do these problems as you follow along with the lecture notes and video.\n",
    "3. Get as far as you can before class.\n",
    "4. Submit what you have so far **Commit** and **Push** to Git.\n",
    "5. Take the daily check in quiz on **Canvas**.\n",
    "7. Come to class with lots of questions!\n",
    "\n",
    "## If you start having trouble with git!!!\n",
    "\n",
    "Some people have reported that GIT is disappearing or giving errors on when they try to use it in Jupyter Lab. Here is another option for interacting with git:\n",
    "\n",
    "[Git Desktop](https://github.com/apps/desktop)\n",
    "\n",
    "If yous start having errors, try downloading this app. I can show you how to use it in class."
   ]
  },
  {
   "cell_type": "markdown",
   "id": "15fd0fc5-0e82-4265-a328-e906366c4907",
   "metadata": {},
   "source": [
    "## Report on your Data Ethics reading:\n",
    "\n",
    "**Your answers should be written as neatly as possible in Markdown cells**\n",
    "\n",
    "Your homework for today is all essay and written work. Make sure you respond to the three questions in the lecture:\n",
    "\n",
    "**Q1** What is your response to our discussion of bias in algorithms? Talk about the pluses and minuses of using algorithms to make decisions in our human world.\n",
    "    \n",
    "**Q2**\n",
    "How do you train yourself to make the right decisions (or reduce the likelihood of accidentally making the wrong decisions) at those points?\n",
    "\n",
    "**Q3**\n",
    "How do you respond when you see bias in someones work? How could you take action to educate others?\n",
    "\n",
    "\n",
    "**Reading Report**\n",
    "\n",
    "Write a report about what you learned from your ethics reading exploration. For each book/article you read:\n",
    "\n",
    "1. Include a full proper reference to the book/article.\n",
    "   * BOOK: Author last name, First name. Book Title: Subtitle. Edition, Publisher, Year.\n",
    "   * ONLINE ARTICLE: Author last name, First name. Article Title. Website name, date accessed. html link.\n",
    "   * [MLA styles for citing other types of online work](https://style.mla.org/works-cited/citations-by-format/online-works/?gad_source=1)\n",
    "2. Write a summary in your own words what the book/article was about. Imagine telling your classmates about what they would learn by reading the article.\n",
    "3. Discuss your own reaction to the book/article. Did it have any effect on how you think about data and ethics? Do you agree with the author? What specific ideas really stood out to you?"
   ]
  },
  {
   "cell_type": "markdown",
   "id": "bf53176f-7926-4d4e-967c-5b5bbd011abe",
   "metadata": {},
   "source": [
    "**Q1**\n",
    "    - Algorithms can speed things up so fast it's amazing. Computers were made to run algorithms, even at the simplist level. Algorithms can help to automate any kind of tedious or error-prone task that humans would normally take forever to do and possibly make easy mistakes. Algorithms are a must to utilize when doing many tasks, however as we talked about, there can also be biases present. Because some algorithms take after human data, if this human data contains inhereit bias, the algorithm will simply take after it. It's not inherietly bias, it doesn't know being biased from unbiased, right from wrong. It's simply a process that does what it's told to do."
   ]
  },
  {
   "cell_type": "markdown",
   "id": "6a527f22-684c-4aee-aa4d-afd435a9c996",
   "metadata": {},
   "source": [
    "**Q2**\n",
    "    - You need to look closely and extensivly review data before using it to make any kind of big decisions. Compare different data sets, and keep in mind what kind of biases could be present and where. More than anything, staying aware of the very real possibility of biases of many kinds being present in your data is essentially to making good decisions using it."
   ]
  },
  {
   "cell_type": "markdown",
   "id": "7335bfa0-82c0-46d7-9734-f4300dedfa54",
   "metadata": {},
   "source": [
    "**Q3**\n",
    "    -You should make sure to point out any bias in yours or someone elses work. You should make sure the poeple around you, especially someone who you notice has bias in their data, are aware of how bias can show up in data and why, as it's not a very intuitive fact."
   ]
  },
  {
   "cell_type": "markdown",
   "id": "9ca89bb8-e1ea-4af6-aea6-faf8874deaf2",
   "metadata": {},
   "source": [
    "**Reading Report**"
   ]
  },
  {
   "cell_type": "markdown",
   "id": "75f55f6b-77b1-4e07-8e02-6ee97be475d5",
   "metadata": {},
   "source": [
    "Write a report about what you learned from your ethics reading exploration. For each book/article you read:\n",
    "\n",
    "1. Include a full proper reference to the book/article.\n",
    "   * BOOK: Author last name, First name. Book Title: Subtitle. Edition, Publisher, Year.\n",
    "   * ONLINE ARTICLE: Author last name, First name. Article Title. Website name, date accessed. html link.\n",
    "   * [MLA styles for citing other types of online work](https://style.mla.org/works-cited/citations-by-format/online-works/?gad_source=1)\n",
    "2. Write a summary in your own words what the book/article was about. Imagine telling your classmates about what they would learn by reading the article.\n",
    "3. Discuss your own reaction to the book/article. Did it have any effect on how you think about data and ethics? Do you agree with the author? What specific ideas really stood out to you?"
   ]
  },
  {
   "cell_type": "markdown",
   "id": "0d91387e-e378-4641-9ee9-6c8cc54d2128",
   "metadata": {},
   "source": [
    "Article 1.\n",
    "Reference - Metz,Cade. \"Is Ethical A.I. Even Possible?\" The New York Times, Dec 8. file:///Users/sebastiantucker-kyriakos/Downloads/Is%20Ethical%20A.I.%20Even%20Possible_%20-%20The%20New%20York%20Times.html\n",
    "\n",
    "Summary\n",
    "    - The article talks a lot about the ethical dilemmas surround AI, especially concerning millitary and commercial uses. It reeferences companies like Clarifai, Google, and Microsoft, and their troubles surrounding the ethics of their development and usage of AI. Many companies have set up ethical boards and policies, but they lack transparency and enforcement, and financial pressures tend to override ethical commitments, which is concerning to say the least. Worker protests have become a driving force for change. At Google, employee objections led to ending a controversial Pentagon project. Similarly, Clarifai employees voiced concerns about their work contributing to autonomous weapons, but their appeals were largely dismissed. As we've discussed, the article discusses the biases that have been found in the AIs, raising concerns for potential risks accociated with AI that misrepresents certain people due to their gender or skin color.\n",
    "\n",
    "My personal reaction\n",
    "    - I think that in general before reading these articles and talking about data ethics, I didn't really think about these specific issues as much. I didn't know about things like data bias, though I knew about a lot of the potential risks that come with AI. I think that it definitly gave me a lot more infomration about the variety of risks that come with the development and usage of AI, and I agree with a lot of what the author is talking about. The article has expanded my knowledge on this subject, and I'm almost even more interested in AI, even if the interest concerns things other than amazement and curiousity\n",
    "\n",
    "Article 2. \n",
    "Reference - Pazzanese, Christina. \"Great promise but potential for peril.\" The Harvard Gazette, Dec 8. https://news.harvard.edu/gazette/story/2020/10/ethical-concerns-mount-as-ai-takes-bigger-decision-making-role/\n",
    "\n",
    "Summary\n",
    "    - The article goes into the the ethics that arrise as AI inevitably makes it way into various industries. It talks about it's influence and the changes it could make depending on what part of the world it's integrated into. Things like healthcare, finance, and employment, it mentions, could each be revolutionized in their own unique ways. However, contrary to intuition but in line with our discussion, the article cautions against AI's capacity to perpetuate biases and societal inequities through faulty data. The article goes over the wide selection of opperations that AI will bring to light as it's brought into various different fields. It will drive efficiency and innovation in places like retail, banking, healthcare and more, helping with everything from diagnosing diseases to optimizing logistics. However, as expected, good comes with bad. It talks in detail about the ethical concerns that comes with AI. First is privacy and surveillance; they talk about the effect AI will have in invading personal privacy, also mentioning biases and discrimination in data like we've been discussing. It talks aboutregulation and possible oversight; because it's largley self-policies, frameworks and better regulations are required for ethical concerns to be tackled, and that may be found to be difficult. Embedding AI ethics into education to equip future leaders with the skills to navigate its societal impact, they argue, is nessesary for protecting us.\n",
    "\n",
    "My personal reaction\n",
    "    - I found myself being very interested in the articl as I read it, especially since I was warmed up to the topic quite a bit by the first one. I noticed that it touched on a lot of the same topics as both the previous article and the discussions we've had about data science. Even so, I also noticed that it went over many other new topics as well, touching on specific statistics and a wider variety of effects, negative and positive, that it has. It went over in detail how AI affects different industries and jobs, something the first one didn't talk about as much."
   ]
  },
  {
   "cell_type": "markdown",
   "id": "c6faae4b-ce39-4695-a87f-99e40bda1322",
   "metadata": {},
   "source": [
    "\n",
    "-------------------------------------------------------\n",
    "\n",
    "## Further watching \n",
    "\n",
    "If you have time, really explore the world of data ethics. You could watch some of the videos linked from class.\n",
    "\n",
    "### Weapons of Math Destruction | Cathy O'Neil | Talks at Google\n",
    "\n",
    "{{< video https://www.youtube.com/watch?v=TQHs8SA1qpk >}}\n",
    "\n",
    "### Imagining a Future Free from the Algorithms of Oppression | Safiya Noble | ACL 2019\n",
    "\n",
    "{{< video https://www.youtube.com/watch?v=tNi_U1Bb1S0 >}}\n",
    "\n",
    "### Whats An Algorithm Got To Do With It\n",
    "\n",
    "{{< video https://www.youtube.com/watch?v=5zxDwA99soA >}}"
   ]
  }
 ],
 "metadata": {
  "kernelspec": {
   "display_name": "Python 3 (ipykernel)",
   "language": "python",
   "name": "python3"
  },
  "language_info": {
   "codemirror_mode": {
    "name": "ipython",
    "version": 3
   },
   "file_extension": ".py",
   "mimetype": "text/x-python",
   "name": "python",
   "nbconvert_exporter": "python",
   "pygments_lexer": "ipython3",
   "version": "3.12.2"
  }
 },
 "nbformat": 4,
 "nbformat_minor": 5
}
